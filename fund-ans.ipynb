{
 "cells": [
  {
   "cell_type": "code",
   "execution_count": 1,
   "outputs": [],
   "source": [
    "%matplotlib inline"
   ],
   "metadata": {
    "collapsed": false,
    "pycharm": {
     "name": "#%%\n"
    }
   }
  },
  {
   "cell_type": "code",
   "execution_count": 5,
   "outputs": [],
   "source": [
    "import pandas as pd\n",
    "import akshare as ak\n",
    "import quantstats as qs\n",
    "from IPython.display import display"
   ],
   "metadata": {
    "collapsed": false,
    "pycharm": {
     "name": "#%%\n"
    }
   }
  },
  {
   "cell_type": "code",
   "execution_count": 3,
   "outputs": [
    {
     "data": {
      "text/plain": "         基金代码               拼音缩写               基金简称    基金类型  \\\n726    000995        JXRYLHPZHHC        建信睿盈灵活配置混合C  混合型-灵活   \n7567   009576        DFHZYSNCYHH        东方红智远三年持有混合  混合型-偏股   \n385    000559             NATTBA             诺安天天宝A     货币型   \n7925   009953           HTBRJQZQ           华泰柏瑞锦乾债券  债券型-长债   \n10554  012719      HXXXJJYNCYHHA      华夏新兴经济一年持有混合A  混合型-偏股   \n12674  015043      XBLDSDDLHHFQA      西部利得时代动力混合发起A  混合型-偏股   \n12173  014437  PHZZTYCDAAAZS7TCY  鹏华中证同业存单AAA指数7天持有  混合型-偏债   \n11498  013711        GFZRZZTLOFC      广发再融资主题(LOF)C  混合型-灵活   \n14230  202025      NFSZ380ETFLJA      南方上证380ETF联接A  指数型-股票   \n7568   009577        SYJYYYNDKZQ        上银聚永益一年定开债券  债券型-长债   \n\n                                                    拼音全称  \n726                    JIANXINRUIYINGLINGHUOPEIZHIHUNHEC  \n7567               DONGFANGHONGZHIYUANSANNIANCHIYOUHUNHE  \n385                                    NUOANTIANTIANBAOA  \n7925                         HUATAIBAIRUIJINQIANZHAIQUAN  \n10554              HUAXIAXINXINGJINGJIYINIANCHIYOUHUNHEA  \n12674                     XIBULIDESHIDAIDONGLIHUNHEFAQIA  \n12173  PENGHUAZHONGZHENGTONGYECUNDANAAAZHISHU7TIANCHIYOU  \n11498                          GUANGFAZAIRONGZIZHUTILOFC  \n14230                    NANFANGSHANGZHENG380ETFLIANJIEA  \n7568               SHANGYINJUYONGYIYINIANDINGKAIZHAIQUAN  ",
      "text/html": "<div>\n<style scoped>\n    .dataframe tbody tr th:only-of-type {\n        vertical-align: middle;\n    }\n\n    .dataframe tbody tr th {\n        vertical-align: top;\n    }\n\n    .dataframe thead th {\n        text-align: right;\n    }\n</style>\n<table border=\"1\" class=\"dataframe\">\n  <thead>\n    <tr style=\"text-align: right;\">\n      <th></th>\n      <th>基金代码</th>\n      <th>拼音缩写</th>\n      <th>基金简称</th>\n      <th>基金类型</th>\n      <th>拼音全称</th>\n    </tr>\n  </thead>\n  <tbody>\n    <tr>\n      <th>726</th>\n      <td>000995</td>\n      <td>JXRYLHPZHHC</td>\n      <td>建信睿盈灵活配置混合C</td>\n      <td>混合型-灵活</td>\n      <td>JIANXINRUIYINGLINGHUOPEIZHIHUNHEC</td>\n    </tr>\n    <tr>\n      <th>7567</th>\n      <td>009576</td>\n      <td>DFHZYSNCYHH</td>\n      <td>东方红智远三年持有混合</td>\n      <td>混合型-偏股</td>\n      <td>DONGFANGHONGZHIYUANSANNIANCHIYOUHUNHE</td>\n    </tr>\n    <tr>\n      <th>385</th>\n      <td>000559</td>\n      <td>NATTBA</td>\n      <td>诺安天天宝A</td>\n      <td>货币型</td>\n      <td>NUOANTIANTIANBAOA</td>\n    </tr>\n    <tr>\n      <th>7925</th>\n      <td>009953</td>\n      <td>HTBRJQZQ</td>\n      <td>华泰柏瑞锦乾债券</td>\n      <td>债券型-长债</td>\n      <td>HUATAIBAIRUIJINQIANZHAIQUAN</td>\n    </tr>\n    <tr>\n      <th>10554</th>\n      <td>012719</td>\n      <td>HXXXJJYNCYHHA</td>\n      <td>华夏新兴经济一年持有混合A</td>\n      <td>混合型-偏股</td>\n      <td>HUAXIAXINXINGJINGJIYINIANCHIYOUHUNHEA</td>\n    </tr>\n    <tr>\n      <th>12674</th>\n      <td>015043</td>\n      <td>XBLDSDDLHHFQA</td>\n      <td>西部利得时代动力混合发起A</td>\n      <td>混合型-偏股</td>\n      <td>XIBULIDESHIDAIDONGLIHUNHEFAQIA</td>\n    </tr>\n    <tr>\n      <th>12173</th>\n      <td>014437</td>\n      <td>PHZZTYCDAAAZS7TCY</td>\n      <td>鹏华中证同业存单AAA指数7天持有</td>\n      <td>混合型-偏债</td>\n      <td>PENGHUAZHONGZHENGTONGYECUNDANAAAZHISHU7TIANCHIYOU</td>\n    </tr>\n    <tr>\n      <th>11498</th>\n      <td>013711</td>\n      <td>GFZRZZTLOFC</td>\n      <td>广发再融资主题(LOF)C</td>\n      <td>混合型-灵活</td>\n      <td>GUANGFAZAIRONGZIZHUTILOFC</td>\n    </tr>\n    <tr>\n      <th>14230</th>\n      <td>202025</td>\n      <td>NFSZ380ETFLJA</td>\n      <td>南方上证380ETF联接A</td>\n      <td>指数型-股票</td>\n      <td>NANFANGSHANGZHENG380ETFLIANJIEA</td>\n    </tr>\n    <tr>\n      <th>7568</th>\n      <td>009577</td>\n      <td>SYJYYYNDKZQ</td>\n      <td>上银聚永益一年定开债券</td>\n      <td>债券型-长债</td>\n      <td>SHANGYINJUYONGYIYINIANDINGKAIZHAIQUAN</td>\n    </tr>\n  </tbody>\n</table>\n</div>"
     },
     "metadata": {},
     "output_type": "display_data"
    }
   ],
   "source": [
    "fund_name_em_df = ak.fund_name_em()\n",
    "display(fund_name_em_df.sample(10))"
   ],
   "metadata": {
    "collapsed": false,
    "pycharm": {
     "name": "#%%\n"
    }
   }
  },
  {
   "cell_type": "code",
   "execution_count": 9,
   "outputs": [
    {
     "data": {
      "text/plain": "0            混合型-偏股\n2           债券型-可转债\n4            债券型-长债\n6            指数型-股票\n7               货币型\n12          债券型-混合债\n21           混合型-灵活\n28             QDII\n65              股票型\n67          债券型-中短债\n81           混合型-偏债\n168      商品（不含QDII）\n291         混合-绝对收益\n327             理财型\n1085         混合型-平衡\n3670            FOF\n14185         Reits\nName: 基金类型, dtype: object"
     },
     "execution_count": 9,
     "metadata": {},
     "output_type": "execute_result"
    }
   ],
   "source": [
    "fund_type = fund_name_em_df['基金类型'].drop_duplicates()\n",
    "fund_type"
   ],
   "metadata": {
    "collapsed": false,
    "pycharm": {
     "name": "#%%\n"
    }
   }
  },
  {
   "cell_type": "code",
   "execution_count": 10,
   "outputs": [
    {
     "data": {
      "text/plain": "            基金代码  拼音缩写  基金简称  拼音全称\n基金类型                              \nFOF          422   422   422   422\nQDII         407   407   407   407\nReits         12    12    12    12\n债券型-中短债      603   603   603   603\n债券型-可转债       74    74    74    74\n债券型-混合债     1044  1044  1044  1044\n债券型-长债      2950  2950  2950  2950\n商品（不含QDII）    47    47    47    47\n指数型-股票      2051  2051  2051  2051\n混合-绝对收益       42    42    42    42\n混合型-偏债      1284  1284  1284  1284\n混合型-偏股      3361  3361  3361  3361\n混合型-平衡       175   175   175   175\n混合型-灵活      2198  2198  2198  2198\n理财型            4     4     4     4\n股票型          806   806   806   806\n货币型          729   729   729   729",
      "text/html": "<div>\n<style scoped>\n    .dataframe tbody tr th:only-of-type {\n        vertical-align: middle;\n    }\n\n    .dataframe tbody tr th {\n        vertical-align: top;\n    }\n\n    .dataframe thead th {\n        text-align: right;\n    }\n</style>\n<table border=\"1\" class=\"dataframe\">\n  <thead>\n    <tr style=\"text-align: right;\">\n      <th></th>\n      <th>基金代码</th>\n      <th>拼音缩写</th>\n      <th>基金简称</th>\n      <th>拼音全称</th>\n    </tr>\n    <tr>\n      <th>基金类型</th>\n      <th></th>\n      <th></th>\n      <th></th>\n      <th></th>\n    </tr>\n  </thead>\n  <tbody>\n    <tr>\n      <th>FOF</th>\n      <td>422</td>\n      <td>422</td>\n      <td>422</td>\n      <td>422</td>\n    </tr>\n    <tr>\n      <th>QDII</th>\n      <td>407</td>\n      <td>407</td>\n      <td>407</td>\n      <td>407</td>\n    </tr>\n    <tr>\n      <th>Reits</th>\n      <td>12</td>\n      <td>12</td>\n      <td>12</td>\n      <td>12</td>\n    </tr>\n    <tr>\n      <th>债券型-中短债</th>\n      <td>603</td>\n      <td>603</td>\n      <td>603</td>\n      <td>603</td>\n    </tr>\n    <tr>\n      <th>债券型-可转债</th>\n      <td>74</td>\n      <td>74</td>\n      <td>74</td>\n      <td>74</td>\n    </tr>\n    <tr>\n      <th>债券型-混合债</th>\n      <td>1044</td>\n      <td>1044</td>\n      <td>1044</td>\n      <td>1044</td>\n    </tr>\n    <tr>\n      <th>债券型-长债</th>\n      <td>2950</td>\n      <td>2950</td>\n      <td>2950</td>\n      <td>2950</td>\n    </tr>\n    <tr>\n      <th>商品（不含QDII）</th>\n      <td>47</td>\n      <td>47</td>\n      <td>47</td>\n      <td>47</td>\n    </tr>\n    <tr>\n      <th>指数型-股票</th>\n      <td>2051</td>\n      <td>2051</td>\n      <td>2051</td>\n      <td>2051</td>\n    </tr>\n    <tr>\n      <th>混合-绝对收益</th>\n      <td>42</td>\n      <td>42</td>\n      <td>42</td>\n      <td>42</td>\n    </tr>\n    <tr>\n      <th>混合型-偏债</th>\n      <td>1284</td>\n      <td>1284</td>\n      <td>1284</td>\n      <td>1284</td>\n    </tr>\n    <tr>\n      <th>混合型-偏股</th>\n      <td>3361</td>\n      <td>3361</td>\n      <td>3361</td>\n      <td>3361</td>\n    </tr>\n    <tr>\n      <th>混合型-平衡</th>\n      <td>175</td>\n      <td>175</td>\n      <td>175</td>\n      <td>175</td>\n    </tr>\n    <tr>\n      <th>混合型-灵活</th>\n      <td>2198</td>\n      <td>2198</td>\n      <td>2198</td>\n      <td>2198</td>\n    </tr>\n    <tr>\n      <th>理财型</th>\n      <td>4</td>\n      <td>4</td>\n      <td>4</td>\n      <td>4</td>\n    </tr>\n    <tr>\n      <th>股票型</th>\n      <td>806</td>\n      <td>806</td>\n      <td>806</td>\n      <td>806</td>\n    </tr>\n    <tr>\n      <th>货币型</th>\n      <td>729</td>\n      <td>729</td>\n      <td>729</td>\n      <td>729</td>\n    </tr>\n  </tbody>\n</table>\n</div>"
     },
     "execution_count": 10,
     "metadata": {},
     "output_type": "execute_result"
    }
   ],
   "source": [
    "fund_name_em_df.groupby(fund_name_em_df['基金类型']).count()"
   ],
   "metadata": {
    "collapsed": false,
    "pycharm": {
     "name": "#%%\n"
    }
   }
  },
  {
   "cell_type": "code",
   "execution_count": 4,
   "outputs": [
    {
     "data": {
      "text/plain": "         基金代码           基金简称\n65     000082      嘉实研究阿尔法股票\n221    000309     大摩品质生活精选股票\n232    000326      南方中小盘成长股票\n288    000409       鹏华环保产业股票\n290    000411     景顺长城优质成长股票\n...       ...            ...\n16018  920003        中金新锐股票A\n16024  920922        中金精选股票C\n16025  920923        中金新锐股票C\n16089  970041  国海量化优选一年持有股票A\n16090  970042  国海量化优选一年持有股票C\n\n[800 rows x 2 columns]",
      "text/html": "<div>\n<style scoped>\n    .dataframe tbody tr th:only-of-type {\n        vertical-align: middle;\n    }\n\n    .dataframe tbody tr th {\n        vertical-align: top;\n    }\n\n    .dataframe thead th {\n        text-align: right;\n    }\n</style>\n<table border=\"1\" class=\"dataframe\">\n  <thead>\n    <tr style=\"text-align: right;\">\n      <th></th>\n      <th>基金代码</th>\n      <th>基金简称</th>\n    </tr>\n  </thead>\n  <tbody>\n    <tr>\n      <th>65</th>\n      <td>000082</td>\n      <td>嘉实研究阿尔法股票</td>\n    </tr>\n    <tr>\n      <th>221</th>\n      <td>000309</td>\n      <td>大摩品质生活精选股票</td>\n    </tr>\n    <tr>\n      <th>232</th>\n      <td>000326</td>\n      <td>南方中小盘成长股票</td>\n    </tr>\n    <tr>\n      <th>288</th>\n      <td>000409</td>\n      <td>鹏华环保产业股票</td>\n    </tr>\n    <tr>\n      <th>290</th>\n      <td>000411</td>\n      <td>景顺长城优质成长股票</td>\n    </tr>\n    <tr>\n      <th>...</th>\n      <td>...</td>\n      <td>...</td>\n    </tr>\n    <tr>\n      <th>16018</th>\n      <td>920003</td>\n      <td>中金新锐股票A</td>\n    </tr>\n    <tr>\n      <th>16024</th>\n      <td>920922</td>\n      <td>中金精选股票C</td>\n    </tr>\n    <tr>\n      <th>16025</th>\n      <td>920923</td>\n      <td>中金新锐股票C</td>\n    </tr>\n    <tr>\n      <th>16089</th>\n      <td>970041</td>\n      <td>国海量化优选一年持有股票A</td>\n    </tr>\n    <tr>\n      <th>16090</th>\n      <td>970042</td>\n      <td>国海量化优选一年持有股票C</td>\n    </tr>\n  </tbody>\n</table>\n<p>800 rows × 2 columns</p>\n</div>"
     },
     "execution_count": 4,
     "metadata": {},
     "output_type": "execute_result"
    }
   ],
   "source": [
    "equity_fund_df = fund_name_em_df[fund_name_em_df['基金类型'] == '股票型'].loc[:, ['基金代码', '基金简称']]\n",
    "# df = equity_fund_df[equity_fund_df['基金简称'].str.contains('ESG')]\n",
    "# display(df)\n",
    "equity_fund_df.drop([318,348,871,12355,12356,15454], inplace=True)\n",
    "equity_fund_df"
   ],
   "metadata": {
    "collapsed": false,
    "pycharm": {
     "name": "#%%\n"
    }
   }
  },
  {
   "cell_type": "code",
   "execution_count": 2,
   "outputs": [],
   "source": [
    "def GetFundInfoByAkshare(fund, indicator):\n",
    "    fund_open_fund_info_em_df = ak.fund_open_fund_info_em(fund=fund, indicator=indicator)\n",
    "    return fund_open_fund_info_em_df"
   ],
   "metadata": {
    "collapsed": false,
    "pycharm": {
     "name": "#%%\n"
    }
   }
  },
  {
   "cell_type": "code",
   "execution_count": 3,
   "outputs": [],
   "source": [
    "def FormatData(fund_open_fund_info_em_df):\n",
    "    data = fund_open_fund_info_em_df\n",
    "    data.rename(columns={'净值日期':'date', '累计净值':'cumvalue'}, inplace=True)\n",
    "    data.date = pd.to_datetime(data['date'])\n",
    "    data.set_index('date', inplace=True)\n",
    "    cumvalue = pd.Series(data.cumvalue)\n",
    "    return cumvalue"
   ],
   "metadata": {
    "collapsed": false,
    "pycharm": {
     "name": "#%%\n"
    }
   }
  },
  {
   "cell_type": "code",
   "execution_count": 7,
   "outputs": [
    {
     "data": {
      "text/plain": "    fund_code       fund_abb\n0      000082      嘉实研究阿尔法股票\n1      000309     大摩品质生活精选股票\n2      000326      南方中小盘成长股票\n3      000409       鹏华环保产业股票\n4      000411     景顺长城优质成长股票\n..        ...            ...\n795    920003        中金新锐股票A\n796    920922        中金精选股票C\n797    920923        中金新锐股票C\n798    970041  国海量化优选一年持有股票A\n799    970042  国海量化优选一年持有股票C\n\n[800 rows x 2 columns]",
      "text/html": "<div>\n<style scoped>\n    .dataframe tbody tr th:only-of-type {\n        vertical-align: middle;\n    }\n\n    .dataframe tbody tr th {\n        vertical-align: top;\n    }\n\n    .dataframe thead th {\n        text-align: right;\n    }\n</style>\n<table border=\"1\" class=\"dataframe\">\n  <thead>\n    <tr style=\"text-align: right;\">\n      <th></th>\n      <th>fund_code</th>\n      <th>fund_abb</th>\n    </tr>\n  </thead>\n  <tbody>\n    <tr>\n      <th>0</th>\n      <td>000082</td>\n      <td>嘉实研究阿尔法股票</td>\n    </tr>\n    <tr>\n      <th>1</th>\n      <td>000309</td>\n      <td>大摩品质生活精选股票</td>\n    </tr>\n    <tr>\n      <th>2</th>\n      <td>000326</td>\n      <td>南方中小盘成长股票</td>\n    </tr>\n    <tr>\n      <th>3</th>\n      <td>000409</td>\n      <td>鹏华环保产业股票</td>\n    </tr>\n    <tr>\n      <th>4</th>\n      <td>000411</td>\n      <td>景顺长城优质成长股票</td>\n    </tr>\n    <tr>\n      <th>...</th>\n      <td>...</td>\n      <td>...</td>\n    </tr>\n    <tr>\n      <th>795</th>\n      <td>920003</td>\n      <td>中金新锐股票A</td>\n    </tr>\n    <tr>\n      <th>796</th>\n      <td>920922</td>\n      <td>中金精选股票C</td>\n    </tr>\n    <tr>\n      <th>797</th>\n      <td>920923</td>\n      <td>中金新锐股票C</td>\n    </tr>\n    <tr>\n      <th>798</th>\n      <td>970041</td>\n      <td>国海量化优选一年持有股票A</td>\n    </tr>\n    <tr>\n      <th>799</th>\n      <td>970042</td>\n      <td>国海量化优选一年持有股票C</td>\n    </tr>\n  </tbody>\n</table>\n<p>800 rows × 2 columns</p>\n</div>"
     },
     "metadata": {},
     "output_type": "display_data"
    }
   ],
   "source": [
    "fund_matrix = equity_fund_df.reset_index()\n",
    "fund_matrix.drop('index',axis=1, inplace=True)\n",
    "fund_matrix.rename(columns={'基金代码':'fund_code', '基金简称':'fund_abb'}, inplace=True)\n",
    "display(fund_matrix)"
   ],
   "metadata": {
    "collapsed": false,
    "pycharm": {
     "name": "#%%\n"
    }
   }
  },
  {
   "cell_type": "code",
   "execution_count": 68,
   "outputs": [
    {
     "name": "stderr",
     "output_type": "stream",
     "text": [
      "C:\\Users\\ThinkPad\\.conda\\envs\\qtconda\\lib\\site-packages\\quantstats\\stats.py:341: RuntimeWarning: invalid value encountered in double_scalars\n",
      "  downside = _np.sqrt((returns[returns < 0] ** 2).sum() / len(returns))\n",
      "C:\\Users\\ThinkPad\\.conda\\envs\\qtconda\\lib\\site-packages\\quantstats\\stats.py:629: RuntimeWarning: Mean of empty slice.\n",
      "  c_var = returns[returns < var].values.mean()\n",
      "C:\\Users\\ThinkPad\\.conda\\envs\\qtconda\\lib\\site-packages\\numpy\\core\\_methods.py:189: RuntimeWarning: invalid value encountered in double_scalars\n",
      "  ret = ret.dtype.type(ret / rcount)\n",
      "C:\\Users\\ThinkPad\\.conda\\envs\\qtconda\\lib\\site-packages\\quantstats\\stats.py:341: RuntimeWarning: invalid value encountered in double_scalars\n",
      "  downside = _np.sqrt((returns[returns < 0] ** 2).sum() / len(returns))\n",
      "C:\\Users\\ThinkPad\\.conda\\envs\\qtconda\\lib\\site-packages\\quantstats\\stats.py:629: RuntimeWarning: Mean of empty slice.\n",
      "  c_var = returns[returns < var].values.mean()\n",
      "C:\\Users\\ThinkPad\\.conda\\envs\\qtconda\\lib\\site-packages\\numpy\\core\\_methods.py:189: RuntimeWarning: invalid value encountered in double_scalars\n",
      "  ret = ret.dtype.type(ret / rcount)\n",
      "C:\\Users\\ThinkPad\\.conda\\envs\\qtconda\\lib\\site-packages\\quantstats\\stats.py:629: RuntimeWarning: Mean of empty slice.\n",
      "  c_var = returns[returns < var].values.mean()\n",
      "C:\\Users\\ThinkPad\\.conda\\envs\\qtconda\\lib\\site-packages\\numpy\\core\\_methods.py:189: RuntimeWarning: invalid value encountered in double_scalars\n",
      "  ret = ret.dtype.type(ret / rcount)\n",
      "C:\\Users\\ThinkPad\\.conda\\envs\\qtconda\\lib\\site-packages\\quantstats\\stats.py:347: RuntimeWarning: divide by zero encountered in double_scalars\n",
      "  res = returns.mean() / downside\n",
      "C:\\Users\\ThinkPad\\.conda\\envs\\qtconda\\lib\\site-packages\\quantstats\\stats.py:629: RuntimeWarning: Mean of empty slice.\n",
      "  c_var = returns[returns < var].values.mean()\n",
      "C:\\Users\\ThinkPad\\.conda\\envs\\qtconda\\lib\\site-packages\\numpy\\core\\_methods.py:189: RuntimeWarning: invalid value encountered in double_scalars\n",
      "  ret = ret.dtype.type(ret / rcount)\n"
     ]
    },
    {
     "data": {
      "text/plain": "    fund_code       fund_abb    sharpe   sortino  max_drawdown       var  \\\n0      000082      嘉实研究阿尔法股票  0.671314  0.912618     -0.431181 -0.019135   \n1      000309     大摩品质生活精选股票  0.680630  0.924815     -0.569028 -0.028378   \n2      000326      南方中小盘成长股票  0.916061  1.302787     -0.227615 -0.013083   \n3      000409       鹏华环保产业股票  0.868338  1.222053     -0.491221 -0.028100   \n4      000411     景顺长城优质成长股票  0.460136  0.630492     -0.497608 -0.023474   \n..        ...            ...       ...       ...           ...       ...   \n795    920003        中金新锐股票A  1.200071  1.740833     -0.296932 -0.019216   \n796    920922        中金精选股票C -0.243946 -0.321725     -0.337647 -0.019303   \n797    920923        中金新锐股票C  1.208971  1.761144     -0.330795 -0.022207   \n798    970041  国海量化优选一年持有股票A -0.319185 -0.396108     -0.247322 -0.021488   \n799    970042  国海量化优选一年持有股票C -0.327592 -0.406468     -0.248207 -0.021491   \n\n         cvar  volatility  \n0   -0.035152    0.189548  \n1   -0.048255    0.281205  \n2   -0.021236    0.130858  \n3   -0.045264    0.280522  \n4   -0.041226    0.230615  \n..        ...         ...  \n795 -0.025922    0.194384  \n796 -0.026547    0.184570  \n797 -0.030583    0.224730  \n798 -0.030855    0.204876  \n799 -0.030849    0.204843  \n\n[800 rows x 8 columns]",
      "text/html": "<div>\n<style scoped>\n    .dataframe tbody tr th:only-of-type {\n        vertical-align: middle;\n    }\n\n    .dataframe tbody tr th {\n        vertical-align: top;\n    }\n\n    .dataframe thead th {\n        text-align: right;\n    }\n</style>\n<table border=\"1\" class=\"dataframe\">\n  <thead>\n    <tr style=\"text-align: right;\">\n      <th></th>\n      <th>fund_code</th>\n      <th>fund_abb</th>\n      <th>sharpe</th>\n      <th>sortino</th>\n      <th>max_drawdown</th>\n      <th>var</th>\n      <th>cvar</th>\n      <th>volatility</th>\n    </tr>\n  </thead>\n  <tbody>\n    <tr>\n      <th>0</th>\n      <td>000082</td>\n      <td>嘉实研究阿尔法股票</td>\n      <td>0.671314</td>\n      <td>0.912618</td>\n      <td>-0.431181</td>\n      <td>-0.019135</td>\n      <td>-0.035152</td>\n      <td>0.189548</td>\n    </tr>\n    <tr>\n      <th>1</th>\n      <td>000309</td>\n      <td>大摩品质生活精选股票</td>\n      <td>0.680630</td>\n      <td>0.924815</td>\n      <td>-0.569028</td>\n      <td>-0.028378</td>\n      <td>-0.048255</td>\n      <td>0.281205</td>\n    </tr>\n    <tr>\n      <th>2</th>\n      <td>000326</td>\n      <td>南方中小盘成长股票</td>\n      <td>0.916061</td>\n      <td>1.302787</td>\n      <td>-0.227615</td>\n      <td>-0.013083</td>\n      <td>-0.021236</td>\n      <td>0.130858</td>\n    </tr>\n    <tr>\n      <th>3</th>\n      <td>000409</td>\n      <td>鹏华环保产业股票</td>\n      <td>0.868338</td>\n      <td>1.222053</td>\n      <td>-0.491221</td>\n      <td>-0.028100</td>\n      <td>-0.045264</td>\n      <td>0.280522</td>\n    </tr>\n    <tr>\n      <th>4</th>\n      <td>000411</td>\n      <td>景顺长城优质成长股票</td>\n      <td>0.460136</td>\n      <td>0.630492</td>\n      <td>-0.497608</td>\n      <td>-0.023474</td>\n      <td>-0.041226</td>\n      <td>0.230615</td>\n    </tr>\n    <tr>\n      <th>...</th>\n      <td>...</td>\n      <td>...</td>\n      <td>...</td>\n      <td>...</td>\n      <td>...</td>\n      <td>...</td>\n      <td>...</td>\n      <td>...</td>\n    </tr>\n    <tr>\n      <th>795</th>\n      <td>920003</td>\n      <td>中金新锐股票A</td>\n      <td>1.200071</td>\n      <td>1.740833</td>\n      <td>-0.296932</td>\n      <td>-0.019216</td>\n      <td>-0.025922</td>\n      <td>0.194384</td>\n    </tr>\n    <tr>\n      <th>796</th>\n      <td>920922</td>\n      <td>中金精选股票C</td>\n      <td>-0.243946</td>\n      <td>-0.321725</td>\n      <td>-0.337647</td>\n      <td>-0.019303</td>\n      <td>-0.026547</td>\n      <td>0.184570</td>\n    </tr>\n    <tr>\n      <th>797</th>\n      <td>920923</td>\n      <td>中金新锐股票C</td>\n      <td>1.208971</td>\n      <td>1.761144</td>\n      <td>-0.330795</td>\n      <td>-0.022207</td>\n      <td>-0.030583</td>\n      <td>0.224730</td>\n    </tr>\n    <tr>\n      <th>798</th>\n      <td>970041</td>\n      <td>国海量化优选一年持有股票A</td>\n      <td>-0.319185</td>\n      <td>-0.396108</td>\n      <td>-0.247322</td>\n      <td>-0.021488</td>\n      <td>-0.030855</td>\n      <td>0.204876</td>\n    </tr>\n    <tr>\n      <th>799</th>\n      <td>970042</td>\n      <td>国海量化优选一年持有股票C</td>\n      <td>-0.327592</td>\n      <td>-0.406468</td>\n      <td>-0.248207</td>\n      <td>-0.021491</td>\n      <td>-0.030849</td>\n      <td>0.204843</td>\n    </tr>\n  </tbody>\n</table>\n<p>800 rows × 8 columns</p>\n</div>"
     },
     "metadata": {},
     "output_type": "display_data"
    }
   ],
   "source": [
    "for index in fund_matrix.index:\n",
    "    fund = fund_matrix.loc[index, 'fund_code']\n",
    "    fund_open_fund_info_em_df = GetFundInfoByAkshare(fund=fund, indicator=\"累计净值走势\")\n",
    "    cumvalue = FormatData(fund_open_fund_info_em_df)\n",
    "    returns = cumvalue.pct_change().dropna()\n",
    "    sharpe_ratio = qs.stats.sharpe(returns=returns)\n",
    "    sortino_ratio = qs.stats.sortino(returns=returns)\n",
    "    max_drawdown = qs.stats.max_drawdown(cumvalue)\n",
    "    var = qs.stats.var(returns=returns)\n",
    "    cvar = qs.stats.cvar(returns=returns)\n",
    "    volatility = qs.stats.volatility(returns=returns)\n",
    "    fund_matrix.loc[index, 'sharpe'] = sharpe_ratio\n",
    "    fund_matrix.loc[index, 'sortino'] = sortino_ratio\n",
    "    fund_matrix.loc[index, 'max_drawdown'] = max_drawdown\n",
    "    fund_matrix.loc[index, 'var'] = var\n",
    "    fund_matrix.loc[index, 'cvar'] = cvar\n",
    "    fund_matrix.loc[index, 'volatility'] = volatility\n",
    "\n",
    "display(fund_matrix)\n"
   ],
   "metadata": {
    "collapsed": false,
    "pycharm": {
     "name": "#%%\n"
    }
   }
  },
  {
   "cell_type": "code",
   "execution_count": 82,
   "outputs": [
    {
     "data": {
      "text/plain": "    fund_code       fund_abb    sharpe   sortino  max_drawdown       var  \\\n0      000082      嘉实研究阿尔法股票  0.671314  0.912618     -0.431181 -0.019135   \n1      000309     大摩品质生活精选股票  0.680630  0.924815     -0.569028 -0.028378   \n2      000326      南方中小盘成长股票  0.916061  1.302787     -0.227615 -0.013083   \n3      000409       鹏华环保产业股票  0.868338  1.222053     -0.491221 -0.028100   \n4      000411     景顺长城优质成长股票  0.460136  0.630492     -0.497608 -0.023474   \n..        ...            ...       ...       ...           ...       ...   \n795    920003        中金新锐股票A  1.200071  1.740833     -0.296932 -0.019216   \n796    920922        中金精选股票C -0.243946 -0.321725     -0.337647 -0.019303   \n797    920923        中金新锐股票C  1.208971  1.761144     -0.330795 -0.022207   \n798    970041  国海量化优选一年持有股票A -0.319185 -0.396108     -0.247322 -0.021488   \n799    970042  国海量化优选一年持有股票C -0.327592 -0.406468     -0.248207 -0.021491   \n\n         cvar  volatility  \n0   -0.035152    0.189548  \n1   -0.048255    0.281205  \n2   -0.021236    0.130858  \n3   -0.045264    0.280522  \n4   -0.041226    0.230615  \n..        ...         ...  \n795 -0.025922    0.194384  \n796 -0.026547    0.184570  \n797 -0.030583    0.224730  \n798 -0.030855    0.204876  \n799 -0.030849    0.204843  \n\n[794 rows x 8 columns]",
      "text/html": "<div>\n<style scoped>\n    .dataframe tbody tr th:only-of-type {\n        vertical-align: middle;\n    }\n\n    .dataframe tbody tr th {\n        vertical-align: top;\n    }\n\n    .dataframe thead th {\n        text-align: right;\n    }\n</style>\n<table border=\"1\" class=\"dataframe\">\n  <thead>\n    <tr style=\"text-align: right;\">\n      <th></th>\n      <th>fund_code</th>\n      <th>fund_abb</th>\n      <th>sharpe</th>\n      <th>sortino</th>\n      <th>max_drawdown</th>\n      <th>var</th>\n      <th>cvar</th>\n      <th>volatility</th>\n    </tr>\n  </thead>\n  <tbody>\n    <tr>\n      <th>0</th>\n      <td>000082</td>\n      <td>嘉实研究阿尔法股票</td>\n      <td>0.671314</td>\n      <td>0.912618</td>\n      <td>-0.431181</td>\n      <td>-0.019135</td>\n      <td>-0.035152</td>\n      <td>0.189548</td>\n    </tr>\n    <tr>\n      <th>1</th>\n      <td>000309</td>\n      <td>大摩品质生活精选股票</td>\n      <td>0.680630</td>\n      <td>0.924815</td>\n      <td>-0.569028</td>\n      <td>-0.028378</td>\n      <td>-0.048255</td>\n      <td>0.281205</td>\n    </tr>\n    <tr>\n      <th>2</th>\n      <td>000326</td>\n      <td>南方中小盘成长股票</td>\n      <td>0.916061</td>\n      <td>1.302787</td>\n      <td>-0.227615</td>\n      <td>-0.013083</td>\n      <td>-0.021236</td>\n      <td>0.130858</td>\n    </tr>\n    <tr>\n      <th>3</th>\n      <td>000409</td>\n      <td>鹏华环保产业股票</td>\n      <td>0.868338</td>\n      <td>1.222053</td>\n      <td>-0.491221</td>\n      <td>-0.028100</td>\n      <td>-0.045264</td>\n      <td>0.280522</td>\n    </tr>\n    <tr>\n      <th>4</th>\n      <td>000411</td>\n      <td>景顺长城优质成长股票</td>\n      <td>0.460136</td>\n      <td>0.630492</td>\n      <td>-0.497608</td>\n      <td>-0.023474</td>\n      <td>-0.041226</td>\n      <td>0.230615</td>\n    </tr>\n    <tr>\n      <th>...</th>\n      <td>...</td>\n      <td>...</td>\n      <td>...</td>\n      <td>...</td>\n      <td>...</td>\n      <td>...</td>\n      <td>...</td>\n      <td>...</td>\n    </tr>\n    <tr>\n      <th>795</th>\n      <td>920003</td>\n      <td>中金新锐股票A</td>\n      <td>1.200071</td>\n      <td>1.740833</td>\n      <td>-0.296932</td>\n      <td>-0.019216</td>\n      <td>-0.025922</td>\n      <td>0.194384</td>\n    </tr>\n    <tr>\n      <th>796</th>\n      <td>920922</td>\n      <td>中金精选股票C</td>\n      <td>-0.243946</td>\n      <td>-0.321725</td>\n      <td>-0.337647</td>\n      <td>-0.019303</td>\n      <td>-0.026547</td>\n      <td>0.184570</td>\n    </tr>\n    <tr>\n      <th>797</th>\n      <td>920923</td>\n      <td>中金新锐股票C</td>\n      <td>1.208971</td>\n      <td>1.761144</td>\n      <td>-0.330795</td>\n      <td>-0.022207</td>\n      <td>-0.030583</td>\n      <td>0.224730</td>\n    </tr>\n    <tr>\n      <th>798</th>\n      <td>970041</td>\n      <td>国海量化优选一年持有股票A</td>\n      <td>-0.319185</td>\n      <td>-0.396108</td>\n      <td>-0.247322</td>\n      <td>-0.021488</td>\n      <td>-0.030855</td>\n      <td>0.204876</td>\n    </tr>\n    <tr>\n      <th>799</th>\n      <td>970042</td>\n      <td>国海量化优选一年持有股票C</td>\n      <td>-0.327592</td>\n      <td>-0.406468</td>\n      <td>-0.248207</td>\n      <td>-0.021491</td>\n      <td>-0.030849</td>\n      <td>0.204843</td>\n    </tr>\n  </tbody>\n</table>\n<p>794 rows × 8 columns</p>\n</div>"
     },
     "metadata": {},
     "output_type": "display_data"
    }
   ],
   "source": [
    "fund_matrix.dropna(inplace=True)\n",
    "fund_matrix.to_excel('data/fund_matrix.xlsx')\n",
    "display(fund_matrix)"
   ],
   "metadata": {
    "collapsed": false,
    "pycharm": {
     "name": "#%%\n"
    }
   }
  },
  {
   "cell_type": "code",
   "execution_count": 6,
   "outputs": [
    {
     "data": {
      "text/plain": "    fund_code       fund_abb\n0      000082      嘉实研究阿尔法股票\n1      000309     大摩品质生活精选股票\n2      000326      南方中小盘成长股票\n3      000409       鹏华环保产业股票\n4      000411     景顺长城优质成长股票\n..        ...            ...\n789    920003        中金新锐股票A\n790    920922        中金精选股票C\n791    920923        中金新锐股票C\n792    970041  国海量化优选一年持有股票A\n793    970042  国海量化优选一年持有股票C\n\n[794 rows x 2 columns]",
      "text/html": "<div>\n<style scoped>\n    .dataframe tbody tr th:only-of-type {\n        vertical-align: middle;\n    }\n\n    .dataframe tbody tr th {\n        vertical-align: top;\n    }\n\n    .dataframe thead th {\n        text-align: right;\n    }\n</style>\n<table border=\"1\" class=\"dataframe\">\n  <thead>\n    <tr style=\"text-align: right;\">\n      <th></th>\n      <th>fund_code</th>\n      <th>fund_abb</th>\n    </tr>\n  </thead>\n  <tbody>\n    <tr>\n      <th>0</th>\n      <td>000082</td>\n      <td>嘉实研究阿尔法股票</td>\n    </tr>\n    <tr>\n      <th>1</th>\n      <td>000309</td>\n      <td>大摩品质生活精选股票</td>\n    </tr>\n    <tr>\n      <th>2</th>\n      <td>000326</td>\n      <td>南方中小盘成长股票</td>\n    </tr>\n    <tr>\n      <th>3</th>\n      <td>000409</td>\n      <td>鹏华环保产业股票</td>\n    </tr>\n    <tr>\n      <th>4</th>\n      <td>000411</td>\n      <td>景顺长城优质成长股票</td>\n    </tr>\n    <tr>\n      <th>...</th>\n      <td>...</td>\n      <td>...</td>\n    </tr>\n    <tr>\n      <th>789</th>\n      <td>920003</td>\n      <td>中金新锐股票A</td>\n    </tr>\n    <tr>\n      <th>790</th>\n      <td>920922</td>\n      <td>中金精选股票C</td>\n    </tr>\n    <tr>\n      <th>791</th>\n      <td>920923</td>\n      <td>中金新锐股票C</td>\n    </tr>\n    <tr>\n      <th>792</th>\n      <td>970041</td>\n      <td>国海量化优选一年持有股票A</td>\n    </tr>\n    <tr>\n      <th>793</th>\n      <td>970042</td>\n      <td>国海量化优选一年持有股票C</td>\n    </tr>\n  </tbody>\n</table>\n<p>794 rows × 2 columns</p>\n</div>"
     },
     "execution_count": 6,
     "metadata": {},
     "output_type": "execute_result"
    }
   ],
   "source": [
    "fund_matrix = pd.read_excel('data/fund_matrix.xlsx',\n",
    "                            usecols=['fund_code','fund_abb'],\n",
    "                            dtype={'fund_code':str})\n",
    "fund_matrix"
   ],
   "metadata": {
    "collapsed": false,
    "pycharm": {
     "name": "#%%\n"
    }
   }
  },
  {
   "cell_type": "code",
   "execution_count": null,
   "outputs": [],
   "source": [
    "for index in fund_matrix.index:\n",
    "    fund = fund_matrix.loc[index, 'fund_code']\n",
    "    fund_open_fund_info_em_df = GetFundInfoByAkshare(fund=fund, indicator=\"累计净值走势\")\n",
    "    cumvalue = FormatData(fund_open_fund_info_em_df)\n",
    "    returns = cumvalue.pct_change().dropna()\n",
    "    qs.reports.html(returns=cumvalue,\n",
    "                    output='E:\\\\Project\\\\portfolioanalysis\\\\stock-debt-hybrid-strategy\\\\data\\\\',\n",
    "                    title=fund_matrix.loc[index, 'fund_abb'] + '概览',\n",
    "                    download_filename=fund_matrix.loc[index, 'fund_abb'] + '概览.html')"
   ],
   "metadata": {
    "collapsed": false,
    "pycharm": {
     "name": "#%%\n",
     "is_executing": true
    }
   }
  },
  {
   "cell_type": "code",
   "execution_count": 79,
   "outputs": [
    {
     "name": "stdout",
     "output_type": "stream",
     "text": [
      "Help on function html in module quantstats.reports:\n",
      "\n",
      "html(returns, benchmark=None, rf=0.0, grayscale=False, title='Strategy Tearsheet', output=None, compounded=True, periods_per_year=252, download_filename='quantstats-tearsheet.html', figfmt='svg', template_path=None, match_dates=False, **kwargs)\n",
      "\n"
     ]
    }
   ],
   "source": [
    "help(qs.reports.html)"
   ],
   "metadata": {
    "collapsed": false,
    "pycharm": {
     "name": "#%%\n"
    }
   }
  }
 ],
 "metadata": {
  "kernelspec": {
   "display_name": "Python 3",
   "language": "python",
   "name": "python3"
  },
  "language_info": {
   "codemirror_mode": {
    "name": "ipython",
    "version": 2
   },
   "file_extension": ".py",
   "mimetype": "text/x-python",
   "name": "python",
   "nbconvert_exporter": "python",
   "pygments_lexer": "ipython2",
   "version": "2.7.6"
  }
 },
 "nbformat": 4,
 "nbformat_minor": 0
}