{
 "cells": [
  {
   "cell_type": "code",
   "execution_count": 1,
   "outputs": [],
   "source": [
    "%matplotlib inline\n",
    "\n",
    "import pandas as pd\n",
    "import akshare as ak\n",
    "import quantstats as qs\n",
    "from IPython.display import display"
   ],
   "metadata": {
    "collapsed": false,
    "pycharm": {
     "name": "#%%\n"
    }
   }
  },
  {
   "cell_type": "code",
   "execution_count": 34,
   "outputs": [
    {
     "data": {
      "text/plain": "    fund_code       fund_abb    sharpe   sortino  max_drawdown       var  \\\n0      000082      嘉实研究阿尔法股票  0.671314  0.912618     -0.431181 -0.019135   \n1      000309     大摩品质生活精选股票  0.680630  0.924815     -0.569028 -0.028378   \n2      000326      南方中小盘成长股票  0.916061  1.302787     -0.227615 -0.013083   \n3      000409       鹏华环保产业股票  0.868338  1.222053     -0.491221 -0.028100   \n4      000411     景顺长城优质成长股票  0.460136  0.630492     -0.497608 -0.023474   \n..        ...            ...       ...       ...           ...       ...   \n789    920003        中金新锐股票A  1.200071  1.740833     -0.296932 -0.019216   \n790    920922        中金精选股票C -0.243946 -0.321725     -0.337647 -0.019303   \n791    920923        中金新锐股票C  1.208971  1.761144     -0.330795 -0.022207   \n792    970041  国海量化优选一年持有股票A -0.319185 -0.396108     -0.247322 -0.021488   \n793    970042  国海量化优选一年持有股票C -0.327592 -0.406468     -0.248207 -0.021491   \n\n         cvar  volatility  \n0   -0.035152    0.189548  \n1   -0.048255    0.281205  \n2   -0.021236    0.130858  \n3   -0.045264    0.280522  \n4   -0.041226    0.230615  \n..        ...         ...  \n789 -0.025922    0.194384  \n790 -0.026547    0.184570  \n791 -0.030583    0.224730  \n792 -0.030855    0.204876  \n793 -0.030849    0.204843  \n\n[794 rows x 8 columns]",
      "text/html": "<div>\n<style scoped>\n    .dataframe tbody tr th:only-of-type {\n        vertical-align: middle;\n    }\n\n    .dataframe tbody tr th {\n        vertical-align: top;\n    }\n\n    .dataframe thead th {\n        text-align: right;\n    }\n</style>\n<table border=\"1\" class=\"dataframe\">\n  <thead>\n    <tr style=\"text-align: right;\">\n      <th></th>\n      <th>fund_code</th>\n      <th>fund_abb</th>\n      <th>sharpe</th>\n      <th>sortino</th>\n      <th>max_drawdown</th>\n      <th>var</th>\n      <th>cvar</th>\n      <th>volatility</th>\n    </tr>\n  </thead>\n  <tbody>\n    <tr>\n      <th>0</th>\n      <td>000082</td>\n      <td>嘉实研究阿尔法股票</td>\n      <td>0.671314</td>\n      <td>0.912618</td>\n      <td>-0.431181</td>\n      <td>-0.019135</td>\n      <td>-0.035152</td>\n      <td>0.189548</td>\n    </tr>\n    <tr>\n      <th>1</th>\n      <td>000309</td>\n      <td>大摩品质生活精选股票</td>\n      <td>0.680630</td>\n      <td>0.924815</td>\n      <td>-0.569028</td>\n      <td>-0.028378</td>\n      <td>-0.048255</td>\n      <td>0.281205</td>\n    </tr>\n    <tr>\n      <th>2</th>\n      <td>000326</td>\n      <td>南方中小盘成长股票</td>\n      <td>0.916061</td>\n      <td>1.302787</td>\n      <td>-0.227615</td>\n      <td>-0.013083</td>\n      <td>-0.021236</td>\n      <td>0.130858</td>\n    </tr>\n    <tr>\n      <th>3</th>\n      <td>000409</td>\n      <td>鹏华环保产业股票</td>\n      <td>0.868338</td>\n      <td>1.222053</td>\n      <td>-0.491221</td>\n      <td>-0.028100</td>\n      <td>-0.045264</td>\n      <td>0.280522</td>\n    </tr>\n    <tr>\n      <th>4</th>\n      <td>000411</td>\n      <td>景顺长城优质成长股票</td>\n      <td>0.460136</td>\n      <td>0.630492</td>\n      <td>-0.497608</td>\n      <td>-0.023474</td>\n      <td>-0.041226</td>\n      <td>0.230615</td>\n    </tr>\n    <tr>\n      <th>...</th>\n      <td>...</td>\n      <td>...</td>\n      <td>...</td>\n      <td>...</td>\n      <td>...</td>\n      <td>...</td>\n      <td>...</td>\n      <td>...</td>\n    </tr>\n    <tr>\n      <th>789</th>\n      <td>920003</td>\n      <td>中金新锐股票A</td>\n      <td>1.200071</td>\n      <td>1.740833</td>\n      <td>-0.296932</td>\n      <td>-0.019216</td>\n      <td>-0.025922</td>\n      <td>0.194384</td>\n    </tr>\n    <tr>\n      <th>790</th>\n      <td>920922</td>\n      <td>中金精选股票C</td>\n      <td>-0.243946</td>\n      <td>-0.321725</td>\n      <td>-0.337647</td>\n      <td>-0.019303</td>\n      <td>-0.026547</td>\n      <td>0.184570</td>\n    </tr>\n    <tr>\n      <th>791</th>\n      <td>920923</td>\n      <td>中金新锐股票C</td>\n      <td>1.208971</td>\n      <td>1.761144</td>\n      <td>-0.330795</td>\n      <td>-0.022207</td>\n      <td>-0.030583</td>\n      <td>0.224730</td>\n    </tr>\n    <tr>\n      <th>792</th>\n      <td>970041</td>\n      <td>国海量化优选一年持有股票A</td>\n      <td>-0.319185</td>\n      <td>-0.396108</td>\n      <td>-0.247322</td>\n      <td>-0.021488</td>\n      <td>-0.030855</td>\n      <td>0.204876</td>\n    </tr>\n    <tr>\n      <th>793</th>\n      <td>970042</td>\n      <td>国海量化优选一年持有股票C</td>\n      <td>-0.327592</td>\n      <td>-0.406468</td>\n      <td>-0.248207</td>\n      <td>-0.021491</td>\n      <td>-0.030849</td>\n      <td>0.204843</td>\n    </tr>\n  </tbody>\n</table>\n<p>794 rows × 8 columns</p>\n</div>"
     },
     "metadata": {},
     "output_type": "display_data"
    }
   ],
   "source": [
    "# 读取股票基金量化指标计算结果\n",
    "fund_matrix = pd.read_excel('data/fund_matrix.xlsx',\n",
    "                            usecols='B:I',\n",
    "                            dtype={'fund_code':str})\n",
    "display(fund_matrix)"
   ],
   "metadata": {
    "collapsed": false,
    "pycharm": {
     "name": "#%%\n"
    }
   }
  },
  {
   "cell_type": "code",
   "execution_count": 42,
   "outputs": [
    {
     "name": "stderr",
     "output_type": "stream",
     "text": [
      "C:\\Users\\ThinkPad\\.conda\\envs\\qtconda\\lib\\site-packages\\numpy\\lib\\function_base.py:4486: RuntimeWarning: invalid value encountered in subtract\n",
      "  diff_b_a = subtract(b, a)\n"
     ]
    },
    {
     "data": {
      "text/plain": "            sharpe    sortino  max_drawdown       var      cvar    volatility\n0.0 -224488.217356 -15.874508     -0.854600 -0.047220 -0.068851  1.122609e-07\n0.1      -1.497810  -1.960469     -0.510384 -0.033248 -0.048847  1.926803e-01\n0.2      -0.967948  -1.290744     -0.463056 -0.030776 -0.044303  2.140052e-01\n0.3      -0.418727  -0.581078     -0.431793 -0.029048 -0.042061  2.282952e-01\n0.4       0.082826   0.109432     -0.408521 -0.027748 -0.039883  2.400543e-01\n0.5       0.315224   0.439859     -0.378988 -0.026317 -0.037618  2.563595e-01\n0.6       0.453654   0.628753     -0.349293 -0.024810 -0.035726  2.659592e-01\n0.7       0.574056   0.803476     -0.319324 -0.023502 -0.033994  2.801638e-01\n0.8       0.693598   0.986924     -0.278388 -0.021887 -0.031939  2.952067e-01\n0.9       0.896331   1.292821     -0.234140 -0.019670 -0.029032  3.195654e-01\n1.0      51.990496        NaN      0.000000  0.001392  0.001392  4.464938e-01",
      "text/html": "<div>\n<style scoped>\n    .dataframe tbody tr th:only-of-type {\n        vertical-align: middle;\n    }\n\n    .dataframe tbody tr th {\n        vertical-align: top;\n    }\n\n    .dataframe thead th {\n        text-align: right;\n    }\n</style>\n<table border=\"1\" class=\"dataframe\">\n  <thead>\n    <tr style=\"text-align: right;\">\n      <th></th>\n      <th>sharpe</th>\n      <th>sortino</th>\n      <th>max_drawdown</th>\n      <th>var</th>\n      <th>cvar</th>\n      <th>volatility</th>\n    </tr>\n  </thead>\n  <tbody>\n    <tr>\n      <th>0.0</th>\n      <td>-224488.217356</td>\n      <td>-15.874508</td>\n      <td>-0.854600</td>\n      <td>-0.047220</td>\n      <td>-0.068851</td>\n      <td>1.122609e-07</td>\n    </tr>\n    <tr>\n      <th>0.1</th>\n      <td>-1.497810</td>\n      <td>-1.960469</td>\n      <td>-0.510384</td>\n      <td>-0.033248</td>\n      <td>-0.048847</td>\n      <td>1.926803e-01</td>\n    </tr>\n    <tr>\n      <th>0.2</th>\n      <td>-0.967948</td>\n      <td>-1.290744</td>\n      <td>-0.463056</td>\n      <td>-0.030776</td>\n      <td>-0.044303</td>\n      <td>2.140052e-01</td>\n    </tr>\n    <tr>\n      <th>0.3</th>\n      <td>-0.418727</td>\n      <td>-0.581078</td>\n      <td>-0.431793</td>\n      <td>-0.029048</td>\n      <td>-0.042061</td>\n      <td>2.282952e-01</td>\n    </tr>\n    <tr>\n      <th>0.4</th>\n      <td>0.082826</td>\n      <td>0.109432</td>\n      <td>-0.408521</td>\n      <td>-0.027748</td>\n      <td>-0.039883</td>\n      <td>2.400543e-01</td>\n    </tr>\n    <tr>\n      <th>0.5</th>\n      <td>0.315224</td>\n      <td>0.439859</td>\n      <td>-0.378988</td>\n      <td>-0.026317</td>\n      <td>-0.037618</td>\n      <td>2.563595e-01</td>\n    </tr>\n    <tr>\n      <th>0.6</th>\n      <td>0.453654</td>\n      <td>0.628753</td>\n      <td>-0.349293</td>\n      <td>-0.024810</td>\n      <td>-0.035726</td>\n      <td>2.659592e-01</td>\n    </tr>\n    <tr>\n      <th>0.7</th>\n      <td>0.574056</td>\n      <td>0.803476</td>\n      <td>-0.319324</td>\n      <td>-0.023502</td>\n      <td>-0.033994</td>\n      <td>2.801638e-01</td>\n    </tr>\n    <tr>\n      <th>0.8</th>\n      <td>0.693598</td>\n      <td>0.986924</td>\n      <td>-0.278388</td>\n      <td>-0.021887</td>\n      <td>-0.031939</td>\n      <td>2.952067e-01</td>\n    </tr>\n    <tr>\n      <th>0.9</th>\n      <td>0.896331</td>\n      <td>1.292821</td>\n      <td>-0.234140</td>\n      <td>-0.019670</td>\n      <td>-0.029032</td>\n      <td>3.195654e-01</td>\n    </tr>\n    <tr>\n      <th>1.0</th>\n      <td>51.990496</td>\n      <td>NaN</td>\n      <td>0.000000</td>\n      <td>0.001392</td>\n      <td>0.001392</td>\n      <td>4.464938e-01</td>\n    </tr>\n  </tbody>\n</table>\n</div>"
     },
     "metadata": {},
     "output_type": "display_data"
    }
   ],
   "source": [
    "# 计算基金各个指标分位数矩阵\n",
    "q = [0,0.1, 0.2, 0.3, 0.4, 0.5, 0.6, 0.7, 0.8,0.9,1]\n",
    "fund_matrix_vol_quantile = fund_matrix.quantile(q=q,interpolation='linear')\n",
    "display(fund_matrix_vol_quantile)"
   ],
   "metadata": {
    "collapsed": false,
    "pycharm": {
     "name": "#%%\n"
    }
   }
  },
  {
   "cell_type": "code",
   "execution_count": 43,
   "outputs": [
    {
     "data": {
      "text/plain": "pandas.core.frame.DataFrame"
     },
     "metadata": {},
     "output_type": "display_data"
    }
   ],
   "source": [
    "display(type(fund_matrix_vol_quantile))\n",
    "# 分位数矩阵的数据结构为DataFrame"
   ],
   "metadata": {
    "collapsed": false,
    "pycharm": {
     "name": "#%%\n"
    }
   }
  },
  {
   "cell_type": "code",
   "execution_count": 40,
   "outputs": [
    {
     "data": {
      "text/plain": "0.0    1.122609e-07\n0.1    1.926803e-01\n0.2    2.140052e-01\n0.3    2.282952e-01\n0.4    2.400543e-01\n0.5    2.563595e-01\n0.6    2.659592e-01\n0.7    2.801638e-01\n0.8    2.952067e-01\n0.9    3.195654e-01\n1.0    4.464938e-01\nName: volatility, dtype: float64"
     },
     "metadata": {},
     "output_type": "display_data"
    }
   ],
   "source": [
    "# 使用fvq标识波动率的分位数列表\n",
    "fvq = fund_matrix_vol_quantile.volatility\n",
    "display(fvq)"
   ],
   "metadata": {
    "collapsed": false,
    "pycharm": {
     "name": "#%%\n"
    }
   }
  },
  {
   "cell_type": "markdown",
   "source": [
    "根据波动率分组，第一组为波动率为10%分位数以内的基金，第二组为波动率为10%分位数到20%分位数的基金，第三组、第四组、第五组以此类推，仅提取50%分位数以内的基金"
   ],
   "metadata": {
    "collapsed": false,
    "pycharm": {
     "name": "#%% md\n"
    }
   }
  },
  {
   "cell_type": "markdown",
   "source": [
    "**第一组**"
   ],
   "metadata": {
    "collapsed": false,
    "pycharm": {
     "name": "#%% md\n"
    }
   }
  },
  {
   "cell_type": "code",
   "execution_count": 59,
   "outputs": [
    {
     "data": {
      "text/plain": "    fund_code         fund_abb         sharpe    sortino  max_drawdown  \\\n683    014140  易方达高质量增长量化精选股票C      51.990496        inf      0.000000   \n682    014139  易方达高质量增长量化精选股票A      48.862524        inf      0.000000   \n749    015773   招商移动互联网产业股票基金C      16.668426        inf      0.000000   \n119    001678       英大国企改革主题股票       1.206185   1.779887     -0.186090   \n363    008128         湘财长源股票型A       1.126501   1.651569     -0.154822   \n..        ...              ...            ...        ...           ...   \n686    014186        招商专精特新股票C      -1.829717  -2.441934     -0.140200   \n660    013491        同泰金融精选股票C      -1.858246  -2.257365     -0.156482   \n669    013899      上投摩根全景优势股票A      -2.315603  -2.848283     -0.137100   \n670    013900      上投摩根全景优势股票C      -2.387554  -2.928237     -0.138300   \n681    014122        大成品质医疗股票C -224488.217356 -15.874508     -0.000200   \n\n          var      cvar    volatility  \n683  0.001392  0.001392  1.355364e-02  \n682  0.001325  0.001325  1.467859e-02  \n749 -0.006101 -0.006101  1.628057e-01  \n119 -0.018632 -0.029280  1.885287e-01  \n363 -0.017642 -0.024301  1.779405e-01  \n..        ...       ...           ...  \n686 -0.015156 -0.022550  1.366889e-01  \n660 -0.021061 -0.031064  1.897601e-01  \n669 -0.017294 -0.021502  1.533106e-01  \n670 -0.017329 -0.021524  1.532340e-01  \n681 -0.000100 -0.000100  1.122609e-07  \n\n[80 rows x 8 columns]",
      "text/html": "<div>\n<style scoped>\n    .dataframe tbody tr th:only-of-type {\n        vertical-align: middle;\n    }\n\n    .dataframe tbody tr th {\n        vertical-align: top;\n    }\n\n    .dataframe thead th {\n        text-align: right;\n    }\n</style>\n<table border=\"1\" class=\"dataframe\">\n  <thead>\n    <tr style=\"text-align: right;\">\n      <th></th>\n      <th>fund_code</th>\n      <th>fund_abb</th>\n      <th>sharpe</th>\n      <th>sortino</th>\n      <th>max_drawdown</th>\n      <th>var</th>\n      <th>cvar</th>\n      <th>volatility</th>\n    </tr>\n  </thead>\n  <tbody>\n    <tr>\n      <th>683</th>\n      <td>014140</td>\n      <td>易方达高质量增长量化精选股票C</td>\n      <td>51.990496</td>\n      <td>inf</td>\n      <td>0.000000</td>\n      <td>0.001392</td>\n      <td>0.001392</td>\n      <td>1.355364e-02</td>\n    </tr>\n    <tr>\n      <th>682</th>\n      <td>014139</td>\n      <td>易方达高质量增长量化精选股票A</td>\n      <td>48.862524</td>\n      <td>inf</td>\n      <td>0.000000</td>\n      <td>0.001325</td>\n      <td>0.001325</td>\n      <td>1.467859e-02</td>\n    </tr>\n    <tr>\n      <th>749</th>\n      <td>015773</td>\n      <td>招商移动互联网产业股票基金C</td>\n      <td>16.668426</td>\n      <td>inf</td>\n      <td>0.000000</td>\n      <td>-0.006101</td>\n      <td>-0.006101</td>\n      <td>1.628057e-01</td>\n    </tr>\n    <tr>\n      <th>119</th>\n      <td>001678</td>\n      <td>英大国企改革主题股票</td>\n      <td>1.206185</td>\n      <td>1.779887</td>\n      <td>-0.186090</td>\n      <td>-0.018632</td>\n      <td>-0.029280</td>\n      <td>1.885287e-01</td>\n    </tr>\n    <tr>\n      <th>363</th>\n      <td>008128</td>\n      <td>湘财长源股票型A</td>\n      <td>1.126501</td>\n      <td>1.651569</td>\n      <td>-0.154822</td>\n      <td>-0.017642</td>\n      <td>-0.024301</td>\n      <td>1.779405e-01</td>\n    </tr>\n    <tr>\n      <th>...</th>\n      <td>...</td>\n      <td>...</td>\n      <td>...</td>\n      <td>...</td>\n      <td>...</td>\n      <td>...</td>\n      <td>...</td>\n      <td>...</td>\n    </tr>\n    <tr>\n      <th>686</th>\n      <td>014186</td>\n      <td>招商专精特新股票C</td>\n      <td>-1.829717</td>\n      <td>-2.441934</td>\n      <td>-0.140200</td>\n      <td>-0.015156</td>\n      <td>-0.022550</td>\n      <td>1.366889e-01</td>\n    </tr>\n    <tr>\n      <th>660</th>\n      <td>013491</td>\n      <td>同泰金融精选股票C</td>\n      <td>-1.858246</td>\n      <td>-2.257365</td>\n      <td>-0.156482</td>\n      <td>-0.021061</td>\n      <td>-0.031064</td>\n      <td>1.897601e-01</td>\n    </tr>\n    <tr>\n      <th>669</th>\n      <td>013899</td>\n      <td>上投摩根全景优势股票A</td>\n      <td>-2.315603</td>\n      <td>-2.848283</td>\n      <td>-0.137100</td>\n      <td>-0.017294</td>\n      <td>-0.021502</td>\n      <td>1.533106e-01</td>\n    </tr>\n    <tr>\n      <th>670</th>\n      <td>013900</td>\n      <td>上投摩根全景优势股票C</td>\n      <td>-2.387554</td>\n      <td>-2.928237</td>\n      <td>-0.138300</td>\n      <td>-0.017329</td>\n      <td>-0.021524</td>\n      <td>1.532340e-01</td>\n    </tr>\n    <tr>\n      <th>681</th>\n      <td>014122</td>\n      <td>大成品质医疗股票C</td>\n      <td>-224488.217356</td>\n      <td>-15.874508</td>\n      <td>-0.000200</td>\n      <td>-0.000100</td>\n      <td>-0.000100</td>\n      <td>1.122609e-07</td>\n    </tr>\n  </tbody>\n</table>\n<p>80 rows × 8 columns</p>\n</div>"
     },
     "execution_count": 59,
     "metadata": {},
     "output_type": "execute_result"
    }
   ],
   "source": [
    "# 第一组基金fmv1\n",
    "fmv1 = fund_matrix[fund_matrix.volatility <= fvq[0.1]]\n",
    "fmv1.sort_values(by=\"sharpe\",ascending=False)"
   ],
   "metadata": {
    "collapsed": false,
    "pycharm": {
     "name": "#%%\n"
    }
   }
  },
  {
   "cell_type": "markdown",
   "source": [
    "易方达高质量增长量化、招商移动互联网、中欧核心消费成立不足1年，不做参考。除此之外，进一步筛选出sharpe高于1的基金。"
   ],
   "metadata": {
    "collapsed": false,
    "pycharm": {
     "name": "#%% md\n"
    }
   }
  },
  {
   "cell_type": "code",
   "execution_count": 74,
   "outputs": [
    {
     "data": {
      "text/plain": "              fund_abb    sharpe   sortino  max_drawdown       var      cvar  \\\nfund_code                                                                      \n001678      英大国企改革主题股票  1.206185  1.779887     -0.186090 -0.018632 -0.029280   \n008128        湘财长源股票型A  1.126501  1.651569     -0.154822 -0.017642 -0.024301   \n015085     中欧核心消费股票发起A  1.116141  1.505387     -0.020598 -0.015476 -0.020598   \n008129        湘财长源股票型C  1.093363  1.600435     -0.155543 -0.017654 -0.024319   \n001718       工银物流产业股票A  1.088749  1.581550     -0.324028 -0.018948 -0.030442   \n003298       嘉实物流产业股票A  1.085220  1.577697     -0.246200 -0.017693 -0.027785   \n003299       嘉实物流产业股票C  1.065546  1.547937     -0.246200 -0.017721 -0.028201   \n320020        诺安策略精选股票  1.024925  1.423832     -0.202271 -0.010901 -0.019164   \n001736        圆信永丰优加生活  1.022877  1.473448     -0.284009 -0.018931 -0.028455   \n\n           volatility  \nfund_code              \n001678       0.188529  \n008128       0.177941  \n015085       0.156032  \n008129       0.177828  \n001718       0.190821  \n003298       0.178165  \n003299       0.178301  \n320020       0.109502  \n001736       0.190150  ",
      "text/html": "<div>\n<style scoped>\n    .dataframe tbody tr th:only-of-type {\n        vertical-align: middle;\n    }\n\n    .dataframe tbody tr th {\n        vertical-align: top;\n    }\n\n    .dataframe thead th {\n        text-align: right;\n    }\n</style>\n<table border=\"1\" class=\"dataframe\">\n  <thead>\n    <tr style=\"text-align: right;\">\n      <th></th>\n      <th>fund_abb</th>\n      <th>sharpe</th>\n      <th>sortino</th>\n      <th>max_drawdown</th>\n      <th>var</th>\n      <th>cvar</th>\n      <th>volatility</th>\n    </tr>\n    <tr>\n      <th>fund_code</th>\n      <th></th>\n      <th></th>\n      <th></th>\n      <th></th>\n      <th></th>\n      <th></th>\n      <th></th>\n    </tr>\n  </thead>\n  <tbody>\n    <tr>\n      <th>001678</th>\n      <td>英大国企改革主题股票</td>\n      <td>1.206185</td>\n      <td>1.779887</td>\n      <td>-0.186090</td>\n      <td>-0.018632</td>\n      <td>-0.029280</td>\n      <td>0.188529</td>\n    </tr>\n    <tr>\n      <th>008128</th>\n      <td>湘财长源股票型A</td>\n      <td>1.126501</td>\n      <td>1.651569</td>\n      <td>-0.154822</td>\n      <td>-0.017642</td>\n      <td>-0.024301</td>\n      <td>0.177941</td>\n    </tr>\n    <tr>\n      <th>015085</th>\n      <td>中欧核心消费股票发起A</td>\n      <td>1.116141</td>\n      <td>1.505387</td>\n      <td>-0.020598</td>\n      <td>-0.015476</td>\n      <td>-0.020598</td>\n      <td>0.156032</td>\n    </tr>\n    <tr>\n      <th>008129</th>\n      <td>湘财长源股票型C</td>\n      <td>1.093363</td>\n      <td>1.600435</td>\n      <td>-0.155543</td>\n      <td>-0.017654</td>\n      <td>-0.024319</td>\n      <td>0.177828</td>\n    </tr>\n    <tr>\n      <th>001718</th>\n      <td>工银物流产业股票A</td>\n      <td>1.088749</td>\n      <td>1.581550</td>\n      <td>-0.324028</td>\n      <td>-0.018948</td>\n      <td>-0.030442</td>\n      <td>0.190821</td>\n    </tr>\n    <tr>\n      <th>003298</th>\n      <td>嘉实物流产业股票A</td>\n      <td>1.085220</td>\n      <td>1.577697</td>\n      <td>-0.246200</td>\n      <td>-0.017693</td>\n      <td>-0.027785</td>\n      <td>0.178165</td>\n    </tr>\n    <tr>\n      <th>003299</th>\n      <td>嘉实物流产业股票C</td>\n      <td>1.065546</td>\n      <td>1.547937</td>\n      <td>-0.246200</td>\n      <td>-0.017721</td>\n      <td>-0.028201</td>\n      <td>0.178301</td>\n    </tr>\n    <tr>\n      <th>320020</th>\n      <td>诺安策略精选股票</td>\n      <td>1.024925</td>\n      <td>1.423832</td>\n      <td>-0.202271</td>\n      <td>-0.010901</td>\n      <td>-0.019164</td>\n      <td>0.109502</td>\n    </tr>\n    <tr>\n      <th>001736</th>\n      <td>圆信永丰优加生活</td>\n      <td>1.022877</td>\n      <td>1.473448</td>\n      <td>-0.284009</td>\n      <td>-0.018931</td>\n      <td>-0.028455</td>\n      <td>0.190150</td>\n    </tr>\n  </tbody>\n</table>\n</div>"
     },
     "metadata": {},
     "output_type": "display_data"
    }
   ],
   "source": [
    "fmv1_sharpe = fmv1[(fmv1.sharpe >= 1) & (fmv1.max_drawdown < 0)]\n",
    "fmv1_sharpe=fmv1_sharpe.sort_values(by='sharpe', ascending=False)\n",
    "fmv1_sharpe.set_index('fund_code',inplace=True)\n",
    "display(fmv1_sharpe)"
   ],
   "metadata": {
    "collapsed": false,
    "pycharm": {
     "name": "#%%\n"
    }
   }
  },
  {
   "cell_type": "code",
   "execution_count": 80,
   "outputs": [
    {
     "data": {
      "text/plain": "Index(['001678', '008128', '015085', '008129', '001718', '003298', '003299',\n       '320020', '001736'],\n      dtype='object', name='fund_code')"
     },
     "execution_count": 80,
     "metadata": {},
     "output_type": "execute_result"
    }
   ],
   "source": [
    "fmv1_sharpe.index"
   ],
   "metadata": {
    "collapsed": false,
    "pycharm": {
     "name": "#%%\n"
    }
   }
  },
  {
   "cell_type": "code",
   "execution_count": 81,
   "outputs": [],
   "source": [
    "# 嘉实物流产业股票A和嘉实物流产业股票C为同一只基金的不同份额，策略一致。\n",
    "fmv1_code = ['001678', '008128', '015085', '008129', '001718', '003298', '320020', '001736']"
   ],
   "metadata": {
    "collapsed": false,
    "pycharm": {
     "name": "#%%\n"
    }
   }
  },
  {
   "cell_type": "markdown",
   "source": [
    "**第二组**"
   ],
   "metadata": {
    "collapsed": false,
    "pycharm": {
     "name": "#%% md\n"
    }
   }
  },
  {
   "cell_type": "code",
   "execution_count": 76,
   "outputs": [
    {
     "data": {
      "text/plain": "    fund_code        fund_abb     sharpe   sortino  max_drawdown       var  \\\n748    015593         国泰金鑫股票C  15.798926       inf      0.000000 -0.008756   \n789    920003         中金新锐股票A   1.200071  1.740833     -0.296932 -0.019216   \n199    004350     汇丰晋信价值先锋股票A   1.185205  1.723887     -0.263651 -0.019761   \n105    001579        国泰大农业股票A   1.016749  1.485969     -0.233251 -0.019659   \n125    001714       工银文体产业股票A   1.007528  1.458796     -0.292922 -0.019940   \n..        ...             ...        ...       ...           ...       ...   \n477    010204     中银港股通优势成长股票  -1.759222 -2.236562     -0.398487 -0.022305   \n560    011285  民生价值优选6个月持有股票A  -1.828273 -2.416843     -0.332637 -0.023218   \n637    012835       招商景气精选股票A  -1.848624 -2.346615     -0.253544 -0.021470   \n561    011286  民生价值优选6个月持有股票C  -1.851919 -2.444316     -0.334893 -0.023261   \n638    012836       招商景气精选股票C  -1.900911 -2.406532     -0.257288 -0.021519   \n\n         cvar  volatility  \n748 -0.008756    0.213972  \n789 -0.025922    0.194384  \n199 -0.031318    0.199785  \n105 -0.028587    0.197413  \n125 -0.029647    0.200160  \n..        ...         ...  \n477 -0.031513    0.201676  \n560 -0.029252    0.209416  \n637 -0.027105    0.193507  \n561 -0.029337    0.209624  \n638 -0.027205    0.193586  \n\n[79 rows x 8 columns]",
      "text/html": "<div>\n<style scoped>\n    .dataframe tbody tr th:only-of-type {\n        vertical-align: middle;\n    }\n\n    .dataframe tbody tr th {\n        vertical-align: top;\n    }\n\n    .dataframe thead th {\n        text-align: right;\n    }\n</style>\n<table border=\"1\" class=\"dataframe\">\n  <thead>\n    <tr style=\"text-align: right;\">\n      <th></th>\n      <th>fund_code</th>\n      <th>fund_abb</th>\n      <th>sharpe</th>\n      <th>sortino</th>\n      <th>max_drawdown</th>\n      <th>var</th>\n      <th>cvar</th>\n      <th>volatility</th>\n    </tr>\n  </thead>\n  <tbody>\n    <tr>\n      <th>748</th>\n      <td>015593</td>\n      <td>国泰金鑫股票C</td>\n      <td>15.798926</td>\n      <td>inf</td>\n      <td>0.000000</td>\n      <td>-0.008756</td>\n      <td>-0.008756</td>\n      <td>0.213972</td>\n    </tr>\n    <tr>\n      <th>789</th>\n      <td>920003</td>\n      <td>中金新锐股票A</td>\n      <td>1.200071</td>\n      <td>1.740833</td>\n      <td>-0.296932</td>\n      <td>-0.019216</td>\n      <td>-0.025922</td>\n      <td>0.194384</td>\n    </tr>\n    <tr>\n      <th>199</th>\n      <td>004350</td>\n      <td>汇丰晋信价值先锋股票A</td>\n      <td>1.185205</td>\n      <td>1.723887</td>\n      <td>-0.263651</td>\n      <td>-0.019761</td>\n      <td>-0.031318</td>\n      <td>0.199785</td>\n    </tr>\n    <tr>\n      <th>105</th>\n      <td>001579</td>\n      <td>国泰大农业股票A</td>\n      <td>1.016749</td>\n      <td>1.485969</td>\n      <td>-0.233251</td>\n      <td>-0.019659</td>\n      <td>-0.028587</td>\n      <td>0.197413</td>\n    </tr>\n    <tr>\n      <th>125</th>\n      <td>001714</td>\n      <td>工银文体产业股票A</td>\n      <td>1.007528</td>\n      <td>1.458796</td>\n      <td>-0.292922</td>\n      <td>-0.019940</td>\n      <td>-0.029647</td>\n      <td>0.200160</td>\n    </tr>\n    <tr>\n      <th>...</th>\n      <td>...</td>\n      <td>...</td>\n      <td>...</td>\n      <td>...</td>\n      <td>...</td>\n      <td>...</td>\n      <td>...</td>\n      <td>...</td>\n    </tr>\n    <tr>\n      <th>477</th>\n      <td>010204</td>\n      <td>中银港股通优势成长股票</td>\n      <td>-1.759222</td>\n      <td>-2.236562</td>\n      <td>-0.398487</td>\n      <td>-0.022305</td>\n      <td>-0.031513</td>\n      <td>0.201676</td>\n    </tr>\n    <tr>\n      <th>560</th>\n      <td>011285</td>\n      <td>民生价值优选6个月持有股票A</td>\n      <td>-1.828273</td>\n      <td>-2.416843</td>\n      <td>-0.332637</td>\n      <td>-0.023218</td>\n      <td>-0.029252</td>\n      <td>0.209416</td>\n    </tr>\n    <tr>\n      <th>637</th>\n      <td>012835</td>\n      <td>招商景气精选股票A</td>\n      <td>-1.848624</td>\n      <td>-2.346615</td>\n      <td>-0.253544</td>\n      <td>-0.021470</td>\n      <td>-0.027105</td>\n      <td>0.193507</td>\n    </tr>\n    <tr>\n      <th>561</th>\n      <td>011286</td>\n      <td>民生价值优选6个月持有股票C</td>\n      <td>-1.851919</td>\n      <td>-2.444316</td>\n      <td>-0.334893</td>\n      <td>-0.023261</td>\n      <td>-0.029337</td>\n      <td>0.209624</td>\n    </tr>\n    <tr>\n      <th>638</th>\n      <td>012836</td>\n      <td>招商景气精选股票C</td>\n      <td>-1.900911</td>\n      <td>-2.406532</td>\n      <td>-0.257288</td>\n      <td>-0.021519</td>\n      <td>-0.027205</td>\n      <td>0.193586</td>\n    </tr>\n  </tbody>\n</table>\n<p>79 rows × 8 columns</p>\n</div>"
     },
     "execution_count": 76,
     "metadata": {},
     "output_type": "execute_result"
    }
   ],
   "source": [
    "# 第二组基金fmv2\n",
    "fmv2 = fund_matrix[(fund_matrix.volatility <= fvq[0.2]) & (fund_matrix.volatility > fvq[0.1])]\n",
    "fmv2.sort_values(by=\"sharpe\",ascending=False)"
   ],
   "metadata": {
    "collapsed": false,
    "pycharm": {
     "name": "#%%\n"
    }
   }
  },
  {
   "cell_type": "markdown",
   "source": [
    "国泰金鑫成立不足1年，不做参考。除此之外，进一步筛选出sharpe高于1的基金。"
   ],
   "metadata": {
    "collapsed": false,
    "pycharm": {
     "name": "#%% md\n"
    }
   }
  },
  {
   "cell_type": "code",
   "execution_count": 78,
   "outputs": [
    {
     "data": {
      "text/plain": "              fund_abb    sharpe   sortino  max_drawdown       var      cvar  \\\nfund_code                                                                      \n920003         中金新锐股票A  1.200071  1.740833     -0.296932 -0.019216 -0.025922   \n004350     汇丰晋信价值先锋股票A  1.185205  1.723887     -0.263651 -0.019761 -0.031318   \n001579        国泰大农业股票A  1.016749  1.485969     -0.233251 -0.019659 -0.028587   \n001714       工银文体产业股票A  1.007528  1.458796     -0.292922 -0.019940 -0.029647   \n\n           volatility  \nfund_code              \n920003       0.194384  \n004350       0.199785  \n001579       0.197413  \n001714       0.200160  ",
      "text/html": "<div>\n<style scoped>\n    .dataframe tbody tr th:only-of-type {\n        vertical-align: middle;\n    }\n\n    .dataframe tbody tr th {\n        vertical-align: top;\n    }\n\n    .dataframe thead th {\n        text-align: right;\n    }\n</style>\n<table border=\"1\" class=\"dataframe\">\n  <thead>\n    <tr style=\"text-align: right;\">\n      <th></th>\n      <th>fund_abb</th>\n      <th>sharpe</th>\n      <th>sortino</th>\n      <th>max_drawdown</th>\n      <th>var</th>\n      <th>cvar</th>\n      <th>volatility</th>\n    </tr>\n    <tr>\n      <th>fund_code</th>\n      <th></th>\n      <th></th>\n      <th></th>\n      <th></th>\n      <th></th>\n      <th></th>\n      <th></th>\n    </tr>\n  </thead>\n  <tbody>\n    <tr>\n      <th>920003</th>\n      <td>中金新锐股票A</td>\n      <td>1.200071</td>\n      <td>1.740833</td>\n      <td>-0.296932</td>\n      <td>-0.019216</td>\n      <td>-0.025922</td>\n      <td>0.194384</td>\n    </tr>\n    <tr>\n      <th>004350</th>\n      <td>汇丰晋信价值先锋股票A</td>\n      <td>1.185205</td>\n      <td>1.723887</td>\n      <td>-0.263651</td>\n      <td>-0.019761</td>\n      <td>-0.031318</td>\n      <td>0.199785</td>\n    </tr>\n    <tr>\n      <th>001579</th>\n      <td>国泰大农业股票A</td>\n      <td>1.016749</td>\n      <td>1.485969</td>\n      <td>-0.233251</td>\n      <td>-0.019659</td>\n      <td>-0.028587</td>\n      <td>0.197413</td>\n    </tr>\n    <tr>\n      <th>001714</th>\n      <td>工银文体产业股票A</td>\n      <td>1.007528</td>\n      <td>1.458796</td>\n      <td>-0.292922</td>\n      <td>-0.019940</td>\n      <td>-0.029647</td>\n      <td>0.200160</td>\n    </tr>\n  </tbody>\n</table>\n</div>"
     },
     "metadata": {},
     "output_type": "display_data"
    }
   ],
   "source": [
    "fmv2_sharpe = fmv2[(fmv2.sharpe >= 1) & (fmv2.max_drawdown < 0)]\n",
    "fmv2_sharpe=fmv2_sharpe.sort_values(by='sharpe', ascending=False)\n",
    "fmv2_sharpe.set_index('fund_code',inplace=True)\n",
    "display(fmv2_sharpe)"
   ],
   "metadata": {
    "collapsed": false,
    "pycharm": {
     "name": "#%%\n"
    }
   }
  },
  {
   "cell_type": "code",
   "execution_count": 82,
   "outputs": [
    {
     "data": {
      "text/plain": "Index(['920003', '004350', '001579', '001714'], dtype='object', name='fund_code')"
     },
     "execution_count": 82,
     "metadata": {},
     "output_type": "execute_result"
    }
   ],
   "source": [
    "fmv2_sharpe.index"
   ],
   "metadata": {
    "collapsed": false,
    "pycharm": {
     "name": "#%%\n"
    }
   }
  },
  {
   "cell_type": "code",
   "execution_count": 83,
   "outputs": [],
   "source": [
    "fmv2_code = ['920003', '004350', '001579', '001714']"
   ],
   "metadata": {
    "collapsed": false,
    "pycharm": {
     "name": "#%%\n"
    }
   }
  },
  {
   "cell_type": "markdown",
   "source": [
    "**第三组**"
   ],
   "metadata": {
    "collapsed": false,
    "pycharm": {
     "name": "#%% md\n"
    }
   }
  },
  {
   "cell_type": "code",
   "execution_count": 63,
   "outputs": [
    {
     "data": {
      "text/plain": "    fund_code       fund_abb    sharpe   sortino  max_drawdown       var  \\\n552    011229  创金合信数字经济主题股票A  1.404878  2.026740     -0.266568 -0.021705   \n553    011230  创金合信数字经济主题股票C  1.381110  1.990151     -0.267707 -0.021717   \n353    007950      招商量化精选股票C  1.248979  1.698922     -0.253450 -0.021585   \n791    920923        中金新锐股票C  1.208971  1.761144     -0.330795 -0.022207   \n115    001645       国泰大健康股票A  0.995106  1.466300     -0.371145 -0.022271   \n..        ...            ...       ...       ...           ...       ...   \n483    010331        天弘消费股票A -1.492866 -1.930528     -0.337535 -0.024268   \n484    010332        天弘消费股票C -1.515067 -1.957058     -0.339608 -0.024283   \n611    011883      招商蓝筹精选股票C -1.539504 -2.061495     -0.313859 -0.024986   \n623    012214    民生加银核心资产股票A -1.890688 -2.538428     -0.222976 -0.024792   \n624    012215    民生加银核心资产股票C -1.920022 -2.573071     -0.224064 -0.024818   \n\n         cvar  volatility  \n552 -0.033509    0.221392  \n553 -0.033521    0.221297  \n353 -0.034937    0.218784  \n791 -0.030583    0.224730  \n115 -0.032201    0.223456  \n..        ...         ...  \n483 -0.033650    0.221545  \n484 -0.033665    0.221507  \n611 -0.030536    0.227719  \n623 -0.028758    0.223109  \n624 -0.028821    0.223109  \n\n[79 rows x 8 columns]",
      "text/html": "<div>\n<style scoped>\n    .dataframe tbody tr th:only-of-type {\n        vertical-align: middle;\n    }\n\n    .dataframe tbody tr th {\n        vertical-align: top;\n    }\n\n    .dataframe thead th {\n        text-align: right;\n    }\n</style>\n<table border=\"1\" class=\"dataframe\">\n  <thead>\n    <tr style=\"text-align: right;\">\n      <th></th>\n      <th>fund_code</th>\n      <th>fund_abb</th>\n      <th>sharpe</th>\n      <th>sortino</th>\n      <th>max_drawdown</th>\n      <th>var</th>\n      <th>cvar</th>\n      <th>volatility</th>\n    </tr>\n  </thead>\n  <tbody>\n    <tr>\n      <th>552</th>\n      <td>011229</td>\n      <td>创金合信数字经济主题股票A</td>\n      <td>1.404878</td>\n      <td>2.026740</td>\n      <td>-0.266568</td>\n      <td>-0.021705</td>\n      <td>-0.033509</td>\n      <td>0.221392</td>\n    </tr>\n    <tr>\n      <th>553</th>\n      <td>011230</td>\n      <td>创金合信数字经济主题股票C</td>\n      <td>1.381110</td>\n      <td>1.990151</td>\n      <td>-0.267707</td>\n      <td>-0.021717</td>\n      <td>-0.033521</td>\n      <td>0.221297</td>\n    </tr>\n    <tr>\n      <th>353</th>\n      <td>007950</td>\n      <td>招商量化精选股票C</td>\n      <td>1.248979</td>\n      <td>1.698922</td>\n      <td>-0.253450</td>\n      <td>-0.021585</td>\n      <td>-0.034937</td>\n      <td>0.218784</td>\n    </tr>\n    <tr>\n      <th>791</th>\n      <td>920923</td>\n      <td>中金新锐股票C</td>\n      <td>1.208971</td>\n      <td>1.761144</td>\n      <td>-0.330795</td>\n      <td>-0.022207</td>\n      <td>-0.030583</td>\n      <td>0.224730</td>\n    </tr>\n    <tr>\n      <th>115</th>\n      <td>001645</td>\n      <td>国泰大健康股票A</td>\n      <td>0.995106</td>\n      <td>1.466300</td>\n      <td>-0.371145</td>\n      <td>-0.022271</td>\n      <td>-0.032201</td>\n      <td>0.223456</td>\n    </tr>\n    <tr>\n      <th>...</th>\n      <td>...</td>\n      <td>...</td>\n      <td>...</td>\n      <td>...</td>\n      <td>...</td>\n      <td>...</td>\n      <td>...</td>\n      <td>...</td>\n    </tr>\n    <tr>\n      <th>483</th>\n      <td>010331</td>\n      <td>天弘消费股票A</td>\n      <td>-1.492866</td>\n      <td>-1.930528</td>\n      <td>-0.337535</td>\n      <td>-0.024268</td>\n      <td>-0.033650</td>\n      <td>0.221545</td>\n    </tr>\n    <tr>\n      <th>484</th>\n      <td>010332</td>\n      <td>天弘消费股票C</td>\n      <td>-1.515067</td>\n      <td>-1.957058</td>\n      <td>-0.339608</td>\n      <td>-0.024283</td>\n      <td>-0.033665</td>\n      <td>0.221507</td>\n    </tr>\n    <tr>\n      <th>611</th>\n      <td>011883</td>\n      <td>招商蓝筹精选股票C</td>\n      <td>-1.539504</td>\n      <td>-2.061495</td>\n      <td>-0.313859</td>\n      <td>-0.024986</td>\n      <td>-0.030536</td>\n      <td>0.227719</td>\n    </tr>\n    <tr>\n      <th>623</th>\n      <td>012214</td>\n      <td>民生加银核心资产股票A</td>\n      <td>-1.890688</td>\n      <td>-2.538428</td>\n      <td>-0.222976</td>\n      <td>-0.024792</td>\n      <td>-0.028758</td>\n      <td>0.223109</td>\n    </tr>\n    <tr>\n      <th>624</th>\n      <td>012215</td>\n      <td>民生加银核心资产股票C</td>\n      <td>-1.920022</td>\n      <td>-2.573071</td>\n      <td>-0.224064</td>\n      <td>-0.024818</td>\n      <td>-0.028821</td>\n      <td>0.223109</td>\n    </tr>\n  </tbody>\n</table>\n<p>79 rows × 8 columns</p>\n</div>"
     },
     "execution_count": 63,
     "metadata": {},
     "output_type": "execute_result"
    }
   ],
   "source": [
    "# 第三组基金fmv3\n",
    "fmv3 = fund_matrix[(fund_matrix.volatility <= fvq[0.3]) & (fund_matrix.volatility > fvq[0.2])]\n",
    "fmv3.sort_values(by=\"sharpe\",ascending=False)"
   ],
   "metadata": {
    "collapsed": false,
    "pycharm": {
     "name": "#%%\n"
    }
   }
  },
  {
   "cell_type": "markdown",
   "source": [
    "进一步筛选出sharpe高于1的基金。"
   ],
   "metadata": {
    "collapsed": false,
    "pycharm": {
     "name": "#%% md\n"
    }
   }
  },
  {
   "cell_type": "code",
   "execution_count": 79,
   "outputs": [
    {
     "data": {
      "text/plain": "                fund_abb    sharpe   sortino  max_drawdown       var  \\\nfund_code                                                              \n011229     创金合信数字经济主题股票A  1.404878  2.026740     -0.266568 -0.021705   \n011230     创金合信数字经济主题股票C  1.381110  1.990151     -0.267707 -0.021717   \n007950         招商量化精选股票C  1.248979  1.698922     -0.253450 -0.021585   \n920923           中金新锐股票C  1.208971  1.761144     -0.330795 -0.022207   \n\n               cvar  volatility  \nfund_code                        \n011229    -0.033509    0.221392  \n011230    -0.033521    0.221297  \n007950    -0.034937    0.218784  \n920923    -0.030583    0.224730  ",
      "text/html": "<div>\n<style scoped>\n    .dataframe tbody tr th:only-of-type {\n        vertical-align: middle;\n    }\n\n    .dataframe tbody tr th {\n        vertical-align: top;\n    }\n\n    .dataframe thead th {\n        text-align: right;\n    }\n</style>\n<table border=\"1\" class=\"dataframe\">\n  <thead>\n    <tr style=\"text-align: right;\">\n      <th></th>\n      <th>fund_abb</th>\n      <th>sharpe</th>\n      <th>sortino</th>\n      <th>max_drawdown</th>\n      <th>var</th>\n      <th>cvar</th>\n      <th>volatility</th>\n    </tr>\n    <tr>\n      <th>fund_code</th>\n      <th></th>\n      <th></th>\n      <th></th>\n      <th></th>\n      <th></th>\n      <th></th>\n      <th></th>\n    </tr>\n  </thead>\n  <tbody>\n    <tr>\n      <th>011229</th>\n      <td>创金合信数字经济主题股票A</td>\n      <td>1.404878</td>\n      <td>2.026740</td>\n      <td>-0.266568</td>\n      <td>-0.021705</td>\n      <td>-0.033509</td>\n      <td>0.221392</td>\n    </tr>\n    <tr>\n      <th>011230</th>\n      <td>创金合信数字经济主题股票C</td>\n      <td>1.381110</td>\n      <td>1.990151</td>\n      <td>-0.267707</td>\n      <td>-0.021717</td>\n      <td>-0.033521</td>\n      <td>0.221297</td>\n    </tr>\n    <tr>\n      <th>007950</th>\n      <td>招商量化精选股票C</td>\n      <td>1.248979</td>\n      <td>1.698922</td>\n      <td>-0.253450</td>\n      <td>-0.021585</td>\n      <td>-0.034937</td>\n      <td>0.218784</td>\n    </tr>\n    <tr>\n      <th>920923</th>\n      <td>中金新锐股票C</td>\n      <td>1.208971</td>\n      <td>1.761144</td>\n      <td>-0.330795</td>\n      <td>-0.022207</td>\n      <td>-0.030583</td>\n      <td>0.224730</td>\n    </tr>\n  </tbody>\n</table>\n</div>"
     },
     "metadata": {},
     "output_type": "display_data"
    }
   ],
   "source": [
    "fmv3_sharpe = fmv3[(fmv3.sharpe >= 1) & (fmv3.max_drawdown < 0)]\n",
    "fmv3_sharpe=fmv3_sharpe.sort_values(by='sharpe', ascending=False)\n",
    "fmv3_sharpe.set_index('fund_code', inplace=True)\n",
    "display(fmv3_sharpe)"
   ],
   "metadata": {
    "collapsed": false,
    "pycharm": {
     "name": "#%%\n"
    }
   }
  },
  {
   "cell_type": "code",
   "execution_count": 84,
   "outputs": [
    {
     "data": {
      "text/plain": "Index(['011229', '011230', '007950', '920923'], dtype='object', name='fund_code')"
     },
     "execution_count": 84,
     "metadata": {},
     "output_type": "execute_result"
    }
   ],
   "source": [
    "fmv3_sharpe.index"
   ],
   "metadata": {
    "collapsed": false,
    "pycharm": {
     "name": "#%%\n"
    }
   }
  },
  {
   "cell_type": "code",
   "execution_count": 85,
   "outputs": [],
   "source": [
    "# 创金合信数字经济主体股票A和创金合信数字经济主体股票C为同策略基金的不同份额\n",
    "fmv3_code = ['011229', '007950', '920923']"
   ],
   "metadata": {
    "collapsed": false,
    "pycharm": {
     "name": "#%%\n"
    }
   }
  },
  {
   "cell_type": "markdown",
   "source": [
    "**组合分析**\n",
    "根据波动率选出三组基金，如果安装等权配置，三组基金的回报情况如何？"
   ],
   "metadata": {
    "collapsed": false,
    "pycharm": {
     "name": "#%% md\n"
    }
   }
  },
  {
   "cell_type": "code",
   "execution_count": 86,
   "outputs": [],
   "source": [
    "# 获取数据函数\n",
    "def GetFundInfoByAkshare(fund, indicator):\n",
    "    fund_open_fund_info_em_df = ak.fund_open_fund_info_em(fund=fund, indicator=indicator)\n",
    "    return fund_open_fund_info_em_df\n",
    "\n",
    "# 格式化数据\n",
    "def FormatData(fund_open_fund_info_em_df):\n",
    "    data = fund_open_fund_info_em_df\n",
    "    data.rename(columns={'净值日期':'date', '累计净值':'cumvalue'}, inplace=True)\n",
    "    data.date = pd.to_datetime(data['date'])\n",
    "    data.set_index('date', inplace=True)\n",
    "    cumvalue = pd.Series(data.cumvalue)\n",
    "    return cumvalue"
   ],
   "metadata": {
    "collapsed": false,
    "pycharm": {
     "name": "#%%\n"
    }
   }
  },
  {
   "cell_type": "markdown",
   "source": [
    "**第一组数据构建组合**"
   ],
   "metadata": {
    "collapsed": false,
    "pycharm": {
     "name": "#%% md\n"
    }
   }
  },
  {
   "cell_type": "code",
   "execution_count": null,
   "outputs": [],
   "source": [],
   "metadata": {
    "collapsed": false,
    "pycharm": {
     "name": "#%%\n"
    }
   }
  }
 ],
 "metadata": {
  "kernelspec": {
   "display_name": "Python 3",
   "language": "python",
   "name": "python3"
  },
  "language_info": {
   "codemirror_mode": {
    "name": "ipython",
    "version": 2
   },
   "file_extension": ".py",
   "mimetype": "text/x-python",
   "name": "python",
   "nbconvert_exporter": "python",
   "pygments_lexer": "ipython2",
   "version": "2.7.6"
  }
 },
 "nbformat": 4,
 "nbformat_minor": 0
}